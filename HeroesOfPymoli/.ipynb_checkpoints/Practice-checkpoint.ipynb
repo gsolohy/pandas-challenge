{
 "cells": [
  {
   "cell_type": "code",
   "execution_count": null,
   "metadata": {},
   "outputs": [],
   "source": [
    "import pandas as pd\n",
    "\n",
    "file_to_load = \"Resources/purchase_data.csv\"\n",
    "purchase_data = pd.read_csv(file_to_load)"
   ]
  },
  {
   "cell_type": "code",
   "execution_count": null,
   "metadata": {},
   "outputs": [],
   "source": [
    "unique_player_list = unique_player_list.drop_duplicates(\"SN\")\n",
    "\n",
    "#How do i iterate this???\n",
    "#something = len(unique_player_list[purchase_data[\"Gender\"] == something1])\n",
    "#something2 = something/total_player\n",
    "#print(something)\n",
    "#print(something2)\n",
    "\n",
    "male_num = len(unique_player_list[unique_player_list[\"Gender\"] == \"Male\"])\n",
    "percent_male_num = male_num/total_player\n",
    "print(male_num)\n",
    "print(percent_male_num)\n",
    "female_num = len(unique_player_list[unique_player_list[\"Gender\"] == \"Female\"])\n",
    "percent_female_num = female_num/total_player\n",
    "print(female_num)\n",
    "print(percent_female_num)\n",
    "other_num = len(unique_player_list[unique_player_list[\"Gender\"] == \"Other / Non-Disclosed\"])\n",
    "percent_other_num = other_num/total_player\n",
    "print(other_num)\n",
    "print(percent_other_num)"
   ]
  }
 ],
 "metadata": {
  "kernelspec": {
   "display_name": "Python 3",
   "language": "python",
   "name": "python3"
  },
  "language_info": {
   "codemirror_mode": {
    "name": "ipython",
    "version": 3
   },
   "file_extension": ".py",
   "mimetype": "text/x-python",
   "name": "python",
   "nbconvert_exporter": "python",
   "pygments_lexer": "ipython3",
   "version": "3.7.3"
  }
 },
 "nbformat": 4,
 "nbformat_minor": 4
}
